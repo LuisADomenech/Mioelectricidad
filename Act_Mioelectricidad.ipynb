{
  "nbformat": 4,
  "nbformat_minor": 0,
  "metadata": {
    "colab": {
      "provenance": []
    },
    "kernelspec": {
      "name": "python3",
      "display_name": "Python 3"
    },
    "language_info": {
      "name": "python"
    }
  },
  "cells": [
    {
      "cell_type": "code",
      "source": [
        "from sympy import *\n",
        "init_session()"
      ],
      "metadata": {
        "colab": {
          "base_uri": "https://localhost:8080/"
        },
        "id": "Zcyve1_bBasr",
        "outputId": "fa5ed3e3-56bf-46e8-a402-78651a694f25"
      },
      "execution_count": 2,
      "outputs": [
        {
          "output_type": "stream",
          "name": "stdout",
          "text": [
            "IPython console for SymPy 1.7.1 (Python 3.7.13-64-bit) (ground types: python)\n",
            "\n",
            "These commands were executed:\n",
            ">>> from __future__ import division\n",
            ">>> from sympy import *\n",
            ">>> x, y, z, t = symbols('x y z t')\n",
            ">>> k, m, n = symbols('k m n', integer=True)\n",
            ">>> f, g, h = symbols('f g h', cls=Function)\n",
            ">>> init_printing()\n",
            "\n",
            "Documentation can be found at https://docs.sympy.org/1.7.1/\n",
            "\n"
          ]
        }
      ]
    },
    {
      "cell_type": "code",
      "execution_count": 8,
      "metadata": {
        "id": "iEhJPQu7BZFL"
      },
      "outputs": [],
      "source": [
        "Vs,Rm1,Rm2,Rm3,R1,R2,R3,C1,C2,Vc1,Vc2,Vrm1,VR1 = symbols(\"V_s,R_m1,R_m2,R_m3,R_1^{'},R_2^{'},R_3^{'},C_1,C_2,V_C1,V_C2,V_Rm1,V_R1^{'}\")\n",
        "i1,i2 = symbols(\"i_1,i_2\")"
      ]
    },
    {
      "cell_type": "markdown",
      "source": [
        "Carga de Capacitor 1 por una resistencia"
      ],
      "metadata": {
        "id": "wV230x7TCalU"
      }
    },
    {
      "cell_type": "code",
      "source": [
        "Eq (Vs-Rm1*i1,0)\n"
      ],
      "metadata": {
        "colab": {
          "base_uri": "https://localhost:8080/",
          "height": 38
        },
        "id": "5HgRF27DB3Cp",
        "outputId": "5b039cf4-4b51-48f3-b743-55861aeda534"
      },
      "execution_count": 79,
      "outputs": [
        {
          "output_type": "execute_result",
          "data": {
            "text/plain": [
              "-Rₘ₁⋅i₁ + Vₛ = 0"
            ],
            "image/png": "[encoded data removed]",
            "text/latex": "$\\displaystyle - R_{m1} i_{1} + V_{s} = 0$"
          },
          "metadata": {},
          "execution_count": 79
        }
      ]
    },
    {
      "cell_type": "code",
      "source": [
        "Eq(i1,Vs/Rm1)\n"
      ],
      "metadata": {
        "colab": {
          "base_uri": "https://localhost:8080/",
          "height": 54
        },
        "id": "J66PB7BkCfYo",
        "outputId": "f0263bcf-a1e7-4932-c408-1882afa42287"
      },
      "execution_count": 30,
      "outputs": [
        {
          "output_type": "execute_result",
          "data": {
            "text/plain": [
              "      Vₛ\n",
              "i₁ = ───\n",
              "     Rₘ₁"
            ],
            "image/png": "[encoded data removed]",
            "text/latex": "$\\displaystyle i_{1} = \\frac{V_{s}}{R_{m1}}$"
          },
          "metadata": {},
          "execution_count": 30
        }
      ]
    },
    {
      "cell_type": "markdown",
      "source": [
        "Voltaje del Capacitor 1 cuando esta completamente cargado"
      ],
      "metadata": {
        "id": "oH4AytinE4a-"
      }
    },
    {
      "cell_type": "code",
      "source": [
        "Eq(Vs-Rm1*i1-R1*i1,0)"
      ],
      "metadata": {
        "colab": {
          "base_uri": "https://localhost:8080/",
          "height": 40
        },
        "id": "r-Y5ajOeGhmA",
        "outputId": "263b8322-e073-43ca-d411-b37986ee73aa"
      },
      "execution_count": 40,
      "outputs": [
        {
          "output_type": "execute_result",
          "data": {
            "text/plain": [
              "-R_1__{'}⋅i₁ - Rₘ₁⋅i₁ + Vₛ = 0"
            ],
            "image/png": "[encoded data removed]",
            "text/latex": "$\\displaystyle - R_1^{'} i_{1} - R_{m1} i_{1} + V_{s} = 0$"
          },
          "metadata": {},
          "execution_count": 40
        }
      ]
    },
    {
      "cell_type": "code",
      "source": [
        "Eq(Vs,i1*(Rm1+R1))"
      ],
      "metadata": {
        "colab": {
          "base_uri": "https://localhost:8080/",
          "height": 47
        },
        "id": "1IPuNlMhFxDc",
        "outputId": "e462668c-6edb-473a-804b-603aac9c8db4"
      },
      "execution_count": 38,
      "outputs": [
        {
          "output_type": "execute_result",
          "data": {
            "text/plain": [
              "Vₛ = i₁⋅(R_1__{'} + Rₘ₁)"
            ],
            "image/png": "[encoded data removed]",
            "text/latex": "$\\displaystyle V_{s} = i_{1} \\left(R_1^{'} + R_{m1}\\right)$"
          },
          "metadata": {},
          "execution_count": 38
        }
      ]
    },
    {
      "cell_type": "code",
      "source": [
        "Eq(i1,Vs/(Rm1+R1))"
      ],
      "metadata": {
        "colab": {
          "base_uri": "https://localhost:8080/",
          "height": 57
        },
        "id": "6vjhyDrQF_JO",
        "outputId": "9a8d3c56-47ea-4635-9bfa-b2d37656990e"
      },
      "execution_count": 39,
      "outputs": [
        {
          "output_type": "execute_result",
          "data": {
            "text/plain": [
              "           Vₛ      \n",
              "i₁ = ──────────────\n",
              "     R_1__{'} + Rₘ₁"
            ],
            "image/png": "[encoded data removed]",
            "text/latex": "$\\displaystyle i_{1} = \\frac{V_{s}}{R_1^{'} + R_{m1}}$"
          },
          "metadata": {},
          "execution_count": 39
        }
      ]
    },
    {
      "cell_type": "code",
      "source": [
        "Eq(VR1,i1*R1)"
      ],
      "metadata": {
        "colab": {
          "base_uri": "https://localhost:8080/",
          "height": 40
        },
        "id": "YlLIQLbDGleb",
        "outputId": "e9c5f432-4c15-446a-a69b-2c9ffd2d9534"
      },
      "execution_count": 48,
      "outputs": [
        {
          "output_type": "execute_result",
          "data": {
            "text/plain": [
              "V_R1__{'} = R_1__{'}⋅i₁"
            ],
            "image/png": "[encoded data removed]",
            "text/latex": "$\\displaystyle V^{'}_R1 = R_1^{'} i_{1}$"
          },
          "metadata": {},
          "execution_count": 48
        }
      ]
    },
    {
      "cell_type": "code",
      "source": [
        "Eq(Vc1,VR1)"
      ],
      "metadata": {
        "colab": {
          "base_uri": "https://localhost:8080/",
          "height": 40
        },
        "id": "dq_qKlK6IWXf",
        "outputId": "f7fb0508-de0a-4849-f460-a1b735bac46c"
      },
      "execution_count": 58,
      "outputs": [
        {
          "output_type": "execute_result",
          "data": {
            "text/plain": [
              "V_C1 = V_R1__{'}"
            ],
            "image/png": "[encoded data removed]",
            "text/latex": "$\\displaystyle V_{C1} = V_R1^{'}$"
          },
          "metadata": {},
          "execution_count": 58
        }
      ]
    },
    {
      "cell_type": "markdown",
      "source": [
        "###Descarga de Capacitor 1 y Carga de Capacitor 2 por una Resistencia\n",
        "Se simplifica el circuito conformado por ambos switches, considerando que cuando el capacitor esta cargado al maximo se toma como un circuito abierto, y cuando esta descargado se toma como un corto circuito."
      ],
      "metadata": {
        "id": "FHZmTUowJPQy"
      }
    },
    {
      "cell_type": "code",
      "source": [
        "Rt,Vr2,Vrm3 = symbols(\"R_T,V_R2^{'},V_Rm3\")\n",
        "Eq(Rt,R1+Rm2)"
      ],
      "metadata": {
        "colab": {
          "base_uri": "https://localhost:8080/",
          "height": 40
        },
        "id": "gkDoNZQ-JUbd",
        "outputId": "ef77bb11-51a7-40ed-ce20-520dfbbaa646"
      },
      "execution_count": 22,
      "outputs": [
        {
          "output_type": "execute_result",
          "data": {
            "text/plain": [
              "R_T = R_1__{'} + Rₘ₂"
            ],
            "image/png": "[encoded data removed]",
            "text/latex": "$\\displaystyle R_{T} = R_1^{'} + R_{m2}$"
          },
          "metadata": {},
          "execution_count": 22
        }
      ]
    },
    {
      "cell_type": "code",
      "source": [
        "Eq(Vc1-Rt*i2,0)"
      ],
      "metadata": {
        "colab": {
          "base_uri": "https://localhost:8080/",
          "height": 38
        },
        "id": "zmlwzciZFP5P",
        "outputId": "386bbcbc-4b9e-4325-8960-50741df6e82f"
      },
      "execution_count": 83,
      "outputs": [
        {
          "output_type": "execute_result",
          "data": {
            "text/plain": [
              "-R_T⋅i₂ + V_C1 = 0"
            ],
            "image/png": "[encoded data removed]",
            "text/latex": "$\\displaystyle - R_{T} i_{2} + V_{C1} = 0$"
          },
          "metadata": {},
          "execution_count": 83
        }
      ]
    },
    {
      "cell_type": "code",
      "source": [
        "Eq(i2,Vc1/Rt)"
      ],
      "metadata": {
        "colab": {
          "base_uri": "https://localhost:8080/",
          "height": 54
        },
        "id": "B_oPVQIkFv72",
        "outputId": "ddec5d97-48b9-4fed-c1f6-66187f9f3292"
      },
      "execution_count": 80,
      "outputs": [
        {
          "output_type": "execute_result",
          "data": {
            "text/plain": [
              "     V_C1\n",
              "i₂ = ────\n",
              "     R_T "
            ],
            "image/png": "[encoded data removed]",
            "text/latex": "$\\displaystyle i_{2} = \\frac{V_{C1}}{R_{T}}$"
          },
          "metadata": {},
          "execution_count": 80
        }
      ]
    },
    {
      "cell_type": "code",
      "source": [
        "Eq(Vc1-Rt*i2-R2*i2,0)"
      ],
      "metadata": {
        "colab": {
          "base_uri": "https://localhost:8080/",
          "height": 40
        },
        "id": "x26PYz3TF2Xp",
        "outputId": "8d639d7f-eff6-4abf-d3e1-673abd59e7dd"
      },
      "execution_count": 81,
      "outputs": [
        {
          "output_type": "execute_result",
          "data": {
            "text/plain": [
              "-R_2__{'}⋅i₂ - R_T⋅i₂ + V_C1 = 0"
            ],
            "image/png": "[encoded data removed]",
            "text/latex": "$\\displaystyle - R_2^{'} i_{2} - R_{T} i_{2} + V_{C1} = 0$"
          },
          "metadata": {},
          "execution_count": 81
        }
      ]
    },
    {
      "cell_type": "code",
      "source": [
        "Eq(i2,Vc1/(Rt+R2))"
      ],
      "metadata": {
        "colab": {
          "base_uri": "https://localhost:8080/",
          "height": 57
        },
        "id": "Cdv_g9stGwT5",
        "outputId": "082e2f8d-2561-4a03-e73f-4a3cf6740a82"
      },
      "execution_count": 82,
      "outputs": [
        {
          "output_type": "execute_result",
          "data": {
            "text/plain": [
              "          V_C1     \n",
              "i₂ = ──────────────\n",
              "     R_2__{'} + R_T"
            ],
            "image/png": "[encoded data removed]",
            "text/latex": "$\\displaystyle i_{2} = \\frac{V_{C1}}{R_2^{'} + R_{T}}$"
          },
          "metadata": {},
          "execution_count": 82
        }
      ]
    },
    {
      "cell_type": "code",
      "source": [
        "Eq(Vr2,i2*R2)"
      ],
      "metadata": {
        "colab": {
          "base_uri": "https://localhost:8080/",
          "height": 40
        },
        "id": "dwUSX3qSG-MH",
        "outputId": "be8b86db-024d-4213-f41d-4703f61a1787"
      },
      "execution_count": 20,
      "outputs": [
        {
          "output_type": "execute_result",
          "data": {
            "text/plain": [
              "V_R2__{'} = R_2__{'}⋅i₂"
            ],
            "image/png": "[encoded data removed]",
            "text/latex": "$\\displaystyle V_R2^{'} = R_2^{'} i_{2}$"
          },
          "metadata": {},
          "execution_count": 20
        }
      ]
    },
    {
      "cell_type": "code",
      "source": [
        "Eq(Vr2,Vrm3)"
      ],
      "metadata": {
        "colab": {
          "base_uri": "https://localhost:8080/",
          "height": 40
        },
        "id": "RLb36h-1Hg3e",
        "outputId": "a0bb2602-7eb7-4ae0-88bd-3bc3a4c78d81"
      },
      "execution_count": 23,
      "outputs": [
        {
          "output_type": "execute_result",
          "data": {
            "text/plain": [
              "V_R2__{'} = V_Rm3"
            ],
            "image/png": "[encoded data removed]",
            "text/latex": "$\\displaystyle V_R2^{'} = V_{Rm3}$"
          },
          "metadata": {},
          "execution_count": 23
        }
      ]
    },
    {
      "cell_type": "markdown",
      "source": [
        "##Encontrando los Valores de C, RM y RL\n"
      ],
      "metadata": {
        "id": "-zFYdQ8Q1GLS"
      }
    },
    {
      "cell_type": "code",
      "source": [
        "C,Rm,R = symbols(\"C,R_m,R^{'}\")\n",
        "pm,cm,rm,a,l,two,gpi = symbols(\"rho_m,C_m,R_m,alpha,l,2,pi\")"
      ],
      "metadata": {
        "id": "0jwE8yeGIRlK"
      },
      "execution_count": 116,
      "outputs": []
    },
    {
      "cell_type": "code",
      "source": [
        "Eq(C,2*pi*cm*(a*l))\n"
      ],
      "metadata": {
        "colab": {
          "base_uri": "https://localhost:8080/",
          "height": 38
        },
        "id": "GjVfGZzr15g7",
        "outputId": "a8798ae4-c4c9-4e60-bf5a-5b7c4abdbb9c"
      },
      "execution_count": 105,
      "outputs": [
        {
          "output_type": "execute_result",
          "data": {
            "text/plain": [
              "C = 2⋅Cₘ⋅α⋅l⋅π"
            ],
            "image/png": "[encoded data removed]",
            "text/latex": "$\\displaystyle C = 2 C_{m} \\alpha l \\pi$"
          },
          "metadata": {},
          "execution_count": 105
        }
      ]
    },
    {
      "cell_type": "code",
      "source": [
        "Eq(Rm,(pm*l)/(gpi*(a**2)))"
      ],
      "metadata": {
        "colab": {
          "base_uri": "https://localhost:8080/",
          "height": 52
        },
        "id": "WCUkXyLDAIXe",
        "outputId": "16b66773-97c3-499a-b4c0-e366bb8f7c2f"
      },
      "execution_count": 118,
      "outputs": [
        {
          "output_type": "execute_result",
          "data": {
            "text/plain": [
              "     l⋅ρₘ\n",
              "Rₘ = ────\n",
              "      2  \n",
              "     α ⋅π"
            ],
            "image/png": "[encoded data removed]",
            "text/latex": "$\\displaystyle R_{m} = \\frac{l \\rho_{m}}{\\alpha^{2} \\pi}$"
          },
          "metadata": {},
          "execution_count": 118
        }
      ]
    },
    {
      "cell_type": "code",
      "source": [
        "Eq(R,Rm/(2*gpi*a*l))"
      ],
      "metadata": {
        "colab": {
          "base_uri": "https://localhost:8080/",
          "height": 52
        },
        "id": "QEnU7zDTAc7s",
        "outputId": "db1dbefd-226e-46ee-af6d-6629f4d940f0"
      },
      "execution_count": 119,
      "outputs": [
        {
          "output_type": "execute_result",
          "data": {
            "text/plain": [
              "            Rₘ  \n",
              "R__{'} = ───────\n",
              "         2⋅α⋅l⋅π"
            ],
            "image/png": "[encoded data removed]",
            "text/latex": "$\\displaystyle R^{'} = \\frac{R_{m}}{2 \\alpha l \\pi}$"
          },
          "metadata": {},
          "execution_count": 119
        }
      ]
    },
    {
      "cell_type": "markdown",
      "source": [
        "Corriente en Capacitor 1"
      ],
      "metadata": {
        "id": "ZGq3pJTHWYm9"
      }
    },
    {
      "cell_type": "code",
      "source": [
        "IC1 = (Vs/(Rm1+R1))\n",
        "IC1\n",
        "i_C1 = IC1.subs({Vs:3,Rm1:9.96e5,R1:3.18e-4})\n",
        "i_C1"
      ],
      "metadata": {
        "colab": {
          "base_uri": "https://localhost:8080/",
          "height": 37
        },
        "id": "MhfRXlLtIuOd",
        "outputId": "8a513312-5840-4855-ab11-a7bfb904f2a1"
      },
      "execution_count": 106,
      "outputs": [
        {
          "output_type": "execute_result",
          "data": {
            "text/plain": [
              "3.01204819180941e-6"
            ],
            "image/png": "[encoded data removed]",
            "text/latex": "$\\displaystyle 3.01204819180941 \\cdot 10^{-6}$"
          },
          "metadata": {},
          "execution_count": 106
        }
      ]
    },
    {
      "cell_type": "markdown",
      "source": [
        "Voltaje en Capacitor 1"
      ],
      "metadata": {
        "id": "vb2eVcpLWW0P"
      }
    },
    {
      "cell_type": "code",
      "source": [
        "VR1 = i1*R1\n",
        "v_r1 = VR1.subs({i1:3.012e-6,R1:3.18e-4})\n",
        "v_r1"
      ],
      "metadata": {
        "colab": {
          "base_uri": "https://localhost:8080/",
          "height": 37
        },
        "id": "ztntwYosM5QP",
        "outputId": "eadf997e-d021-41cc-b85e-7953e774fc69"
      },
      "execution_count": 50,
      "outputs": [
        {
          "output_type": "execute_result",
          "data": {
            "text/plain": [
              "9.57816000000000e-10"
            ],
            "image/png": "[encoded data removed]",
            "text/latex": "$\\displaystyle 9.57816 \\cdot 10^{-10}$"
          },
          "metadata": {},
          "execution_count": 50
        }
      ]
    },
    {
      "cell_type": "markdown",
      "source": [
        "Corriente en Capacitor 2"
      ],
      "metadata": {
        "id": "zjHCSDXlWTv7"
      }
    },
    {
      "cell_type": "code",
      "source": [
        "IC2 = Vc2/(R1+R2+Rm2)\n",
        "I_C2 = IC2.subs({Vc2:9.57816e-10,R1:3.18e-4,R2:3.14e-4,Rm2:9.96e5})\n",
        "I_C2"
      ],
      "metadata": {
        "colab": {
          "base_uri": "https://localhost:8080/",
          "height": 37
        },
        "id": "80FABTF4TTBZ",
        "outputId": "7c3f2572-fd47-4be9-d37d-ebf5f240649b"
      },
      "execution_count": 77,
      "outputs": [
        {
          "output_type": "execute_result",
          "data": {
            "text/plain": [
              "9.61662649992198e-16"
            ],
            "image/png": "[encoded data removed]",
            "text/latex": "$\\displaystyle 9.61662649992198 \\cdot 10^{-16}$"
          },
          "metadata": {},
          "execution_count": 77
        }
      ]
    },
    {
      "cell_type": "markdown",
      "source": [
        "Voltaje En Capacitor 2"
      ],
      "metadata": {
        "id": "P3rDdeF-WRr9"
      }
    },
    {
      "cell_type": "code",
      "source": [
        "V_R2 = i2*R2\n",
        "VR_2 = V_R2.subs({i2:9.6166e-16,R2:3.14e-4})\n",
        "VR_2"
      ],
      "metadata": {
        "colab": {
          "base_uri": "https://localhost:8080/",
          "height": 37
        },
        "id": "Po4r93ZhUzZW",
        "outputId": "de41f53f-b4d0-454a-b937-2aac9e1a4028"
      },
      "execution_count": 78,
      "outputs": [
        {
          "output_type": "execute_result",
          "data": {
            "text/plain": [
              "3.01961240000000e-19"
            ],
            "image/png": "[encoded data removed]",
            "text/latex": "$\\displaystyle 3.0196124 \\cdot 10^{-19}$"
          },
          "metadata": {},
          "execution_count": 78
        }
      ]
    }
  ]
}